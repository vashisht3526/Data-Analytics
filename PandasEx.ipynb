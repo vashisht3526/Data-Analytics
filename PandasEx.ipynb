{
 "cells": [
  {
   "cell_type": "code",
   "execution_count": 1,
   "id": "b9fdd682-c17f-4044-a6ca-699208670ee5",
   "metadata": {},
   "outputs": [],
   "source": [
    "import pandas as pd"
   ]
  },
  {
   "cell_type": "code",
   "execution_count": 7,
   "id": "3e013d2d-22bf-4cfc-964e-0d92b4d89a05",
   "metadata": {},
   "outputs": [
    {
     "name": "stdout",
     "output_type": "stream",
     "text": [
      "   day1  day2\n",
      "0    20    60\n",
      "1    30    70\n",
      "2    40    80\n"
     ]
    }
   ],
   "source": [
    "data = {\n",
    "    'day1' : [20,30,40],\n",
    "    'day2' : [60,70,80]\n",
    "}\n",
    "\n",
    "df = pd.DataFrame(data)\n",
    "\n",
    "print(df)"
   ]
  },
  {
   "cell_type": "code",
   "execution_count": 11,
   "id": "063b8e70-3c0b-4556-9339-ca94aaded788",
   "metadata": {},
   "outputs": [
    {
     "name": "stdout",
     "output_type": "stream",
     "text": [
      "         day1  day2\n",
      "sunday     20    60\n",
      "monday     30    70\n",
      "tuesday    40    80\n"
     ]
    }
   ],
   "source": [
    "data = {\n",
    "    'day1' : [20,30,40],\n",
    "    'day2' : [60,70,80]\n",
    "}\n",
    "\n",
    "df = pd.DataFrame(data, index = ['sunday', 'monday', 'tuesday'])\n",
    "\n",
    "print(df)"
   ]
  },
  {
   "cell_type": "code",
   "execution_count": 15,
   "id": "c5cd646e-e0da-443a-9517-568c01282f25",
   "metadata": {},
   "outputs": [
    {
     "data": {
      "text/plain": [
       "sunday     20\n",
       "monday     30\n",
       "tuesday    40\n",
       "Name: day1, dtype: int64"
      ]
     },
     "execution_count": 15,
     "metadata": {},
     "output_type": "execute_result"
    }
   ],
   "source": [
    "df['day1']"
   ]
  },
  {
   "cell_type": "code",
   "execution_count": null,
   "id": "0efdf309-0e63-488d-902d-dfedc6264f79",
   "metadata": {},
   "outputs": [],
   "source": []
  }
 ],
 "metadata": {
  "kernelspec": {
   "display_name": "Python 3 (ipykernel)",
   "language": "python",
   "name": "python3"
  },
  "language_info": {
   "codemirror_mode": {
    "name": "ipython",
    "version": 3
   },
   "file_extension": ".py",
   "mimetype": "text/x-python",
   "name": "python",
   "nbconvert_exporter": "python",
   "pygments_lexer": "ipython3",
   "version": "3.12.4"
  }
 },
 "nbformat": 4,
 "nbformat_minor": 5
}
