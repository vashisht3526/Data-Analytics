{
 "cells": [
  {
   "cell_type": "code",
   "execution_count": 1,
   "id": "ad27d4ff-ca94-4d8d-bf58-2d2e562a24bb",
   "metadata": {},
   "outputs": [],
   "source": [
    "#if-else"
   ]
  },
  {
   "cell_type": "code",
   "execution_count": 2,
   "id": "e859f185-d0d5-4a41-984b-5f3396abb203",
   "metadata": {},
   "outputs": [
    {
     "name": "stdin",
     "output_type": "stream",
     "text": [
      "enter a number  45\n",
      "enter another number  67\n"
     ]
    },
    {
     "name": "stdout",
     "output_type": "stream",
     "text": [
      "67  is greater\n"
     ]
    }
   ],
   "source": [
    "a = int(input('enter a number ' ))\n",
    "b = int(input('enter another number '))\n",
    "\n",
    "if a > b:\n",
    "    print(a,' is greater')\n",
    "elif a==b:\n",
    "    print(' numbers are equal')\n",
    "else:\n",
    "    print(b,' is greater')"
   ]
  },
  {
   "cell_type": "code",
   "execution_count": 3,
   "id": "7d27c8fd-b340-493b-97f2-a5d92bbcdf30",
   "metadata": {},
   "outputs": [
    {
     "name": "stdin",
     "output_type": "stream",
     "text": [
      "enter a number  65\n"
     ]
    },
    {
     "name": "stdout",
     "output_type": "stream",
     "text": [
      "65  is odd number\n"
     ]
    }
   ],
   "source": [
    "a = int(input('enter a number ' ))\n",
    "\n",
    "if (a%2==0):\n",
    "    print(a,' is even number')\n",
    "else:\n",
    "    print(a,' is odd number')"
   ]
  },
  {
   "cell_type": "code",
   "execution_count": 4,
   "id": "32cd0286-4718-4c37-a147-e20202a9e79d",
   "metadata": {},
   "outputs": [
    {
     "name": "stdin",
     "output_type": "stream",
     "text": [
      "enter a number  6\n"
     ]
    },
    {
     "name": "stdout",
     "output_type": "stream",
     "text": [
      "6  is a even number\n"
     ]
    }
   ],
   "source": [
    "a = int(input('enter a number ' ))\n",
    "\n",
    "if a % 2 == 0 : \n",
    "    print(a, ' is a even number')"
   ]
  },
  {
   "cell_type": "code",
   "execution_count": 26,
   "id": "a3bd5e08-7e30-4743-9382-523945d3e45d",
   "metadata": {},
   "outputs": [
    {
     "name": "stdin",
     "output_type": "stream",
     "text": [
      "enter a Day :  wednesday\n"
     ]
    },
    {
     "name": "stdout",
     "output_type": "stream",
     "text": [
      "it is wedneday\n"
     ]
    }
   ],
   "source": [
    "day = input('enter a Day : ' )\n",
    "\n",
    "if day == 'sunday':\n",
    "    print(' it is sunday...')\n",
    "elif day == 'monday':\n",
    "    print(' it is Monday')\n",
    "elif day== \"tuesday\":\n",
    "    print('it is tuesday')\n",
    "elif day == 'wednesday':\n",
    "    print('it is wedneday')\n",
    "elif day==\"thursday\":\n",
    "    print('it is tuhrsday')\n",
    "elif day == 'friday':\n",
    "    print('it is friday')\n",
    "elif day == 'saturday':\n",
    "    print('it is saturday')\n",
    "else:\n",
    "    print('enter a valid day')"
   ]
  },
  {
   "cell_type": "code",
   "execution_count": 51,
   "id": "a6b15dbe-4b6b-4a8b-a5f2-4c519ed8028f",
   "metadata": {},
   "outputs": [
    {
     "name": "stdin",
     "output_type": "stream",
     "text": [
      "Enter first number:  65\n",
      "Enter second number:  67\n",
      "Enter third number:  23\n"
     ]
    },
    {
     "name": "stdout",
     "output_type": "stream",
     "text": [
      "\n",
      "Second number is the greatest, i.e., 67\n"
     ]
    }
   ],
   "source": [
    "a = int(input('Enter first number: '))\n",
    "b = int(input('Enter second number: '))\n",
    "c = int(input('Enter third number: '))\n",
    "\n",
    "if a > b and a > c:\n",
    "    print('\\nFirst number is the greatest i.e. ', a)\n",
    "elif b > a and b > c:\n",
    "    print('\\nSecond number is the greatest i.e. ', b)\n",
    "else:\n",
    "    print('\\nThird number is the greatest i.e. ', c)\n",
    "\n",
    "    "
   ]
  },
  {
   "cell_type": "code",
   "execution_count": 49,
   "id": "b5b01491-03b5-47df-9167-26125157cb10",
   "metadata": {},
   "outputs": [
    {
     "name": "stdin",
     "output_type": "stream",
     "text": [
      "enter first number  2015\n"
     ]
    },
    {
     "name": "stdout",
     "output_type": "stream",
     "text": [
      "it is not a leap year\n"
     ]
    }
   ],
   "source": [
    "a = int(input('enter first number ' ))\n",
    "\n",
    "if (a%4==0 and a%100!=0) or (a%400==0):\n",
    "    print(a,' is a leap year')\n",
    "else:\n",
    "    print('it is not a leap year')"
   ]
  },
  {
   "cell_type": "code",
   "execution_count": null,
   "id": "5bc194e4-6e08-4dc3-8eb7-4ab31600cfcf",
   "metadata": {},
   "outputs": [],
   "source": []
  }
 ],
 "metadata": {
  "kernelspec": {
   "display_name": "Python 3 (ipykernel)",
   "language": "python",
   "name": "python3"
  },
  "language_info": {
   "codemirror_mode": {
    "name": "ipython",
    "version": 3
   },
   "file_extension": ".py",
   "mimetype": "text/x-python",
   "name": "python",
   "nbconvert_exporter": "python",
   "pygments_lexer": "ipython3",
   "version": "3.12.4"
  }
 },
 "nbformat": 4,
 "nbformat_minor": 5
}
